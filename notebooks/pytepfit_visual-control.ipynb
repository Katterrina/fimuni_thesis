{
 "cells": [
  {
   "cell_type": "code",
   "execution_count": null,
   "metadata": {},
   "outputs": [],
   "source": [
    "# \n",
    "# \n",
    "# PLOT_3D = False\n",
    "# \n",
    "# surfer_kwargs = dict(\n",
    "#     subject='fsaverage',\n",
    "#     subjects_dir=subjects_dir,\n",
    "#     initial_time=0.1,\n",
    "#     smoothing_steps=6,\n",
    "#     show_traces='label',\n",
    "# )\n",
    "# \n",
    "# if PLOT_3D:\n",
    "#     surfer_kwargs['views'] = \"axial\"\n",
    "#     surfer_kwargs['hemi'] = \"both\"\n",
    "# else:\n",
    "#     surfer_kwargs[\"backend\"] = \"matplotlib\"\n",
    "#     surfer_kwargs['hemi'] = \"lh\"\n",
    "#     surfer_kwargs['views'] = 'lat'\n",
    "# \n",
    "# brain = real_stc.plot(**surfer_kwargs)"
   ]
  }
 ],
 "metadata": {
  "language_info": {
   "name": "python"
  }
 },
 "nbformat": 4,
 "nbformat_minor": 2
}
