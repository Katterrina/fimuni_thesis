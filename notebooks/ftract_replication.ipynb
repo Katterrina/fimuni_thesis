{
 "cells": [
  {
   "cell_type": "code",
   "execution_count": 19,
   "metadata": {},
   "outputs": [
    {
     "name": "stdout",
     "output_type": "stream",
     "text": [
      "2024-01-26\n"
     ]
    }
   ],
   "source": [
    "import numpy as np\n",
    "from scipy.sparse import csgraph\n",
    "\n",
    "import sys\n",
    "sys.path.append('../')\n",
    "from src import data\n",
    "from scipy.stats import spearmanr\n",
    "\n",
    "# https://github.com/aestrivex/bctpy\n",
    "# dokumentace asi jenom pro matlab? https://sites.google.com/site/bctnet/\n",
    "# from bct.algorithms import efficiency\n",
    "\n",
    "from netneurotools import metrics # zjistit, proč tohle nefunguje přes pip \n",
    "# (mám to stažené lokálně z Githubu a to pak funguje)\n",
    "\n",
    "# https://enigma-toolbox.readthedocs.io/en/latest/pages/05.HCP/index.html\n",
    "# enigmatoolbox obsahuje chybu, lokálně jsem si ji opravila, TODO na GitHub\n",
    "from enigmatoolbox.datasets import load_sc, load_fc\n",
    "from nilearn import plotting\n",
    "\n",
    "# https://neuraldatascience.io/7-eeg/mne_data.html\n",
    "%matplotlib widget\n",
    "\n",
    "PLOT=False\n",
    "\n",
    "!date -I"
   ]
  },
  {
   "cell_type": "code",
   "execution_count": 20,
   "metadata": {},
   "outputs": [],
   "source": [
    "# load data\n",
    "response_probability = np.loadtxt('../data/external/F-TRACT_DKT/probability.txt.gz')\n",
    "parcells_list = ['ctx-lh-bankssts','ctx-lh-caudalanteriorcingulate','ctx-lh-caudalmiddlefrontal','ctx-lh-cuneus','ctx-lh-entorhinal','ctx-lh-fusiform','ctx-lh-inferiorparietal','ctx-lh-inferiortemporal','ctx-lh-isthmuscingulate','ctx-lh-lateraloccipital','ctx-lh-lateralorbitofrontal','ctx-lh-lingual','ctx-lh-medialorbitofrontal','ctx-lh-middletemporal','ctx-lh-parahippocampal','ctx-lh-paracentral','ctx-lh-parsopercularis','ctx-lh-parsorbitalis','ctx-lh-parstriangularis','ctx-lh-pericalcarine','ctx-lh-postcentral','ctx-lh-posteriorcingulate','ctx-lh-precentral','ctx-lh-precuneus','ctx-lh-rostralanteriorcingulate','ctx-lh-rostralmiddlefrontal','ctx-lh-superiorfrontal','ctx-lh-superiorparietal','ctx-lh-superiortemporal','ctx-lh-supramarginal','ctx-lh-frontalpole','ctx-lh-temporalpole','ctx-lh-transversetemporal','ctx-lh-insula','ctx-rh-bankssts','ctx-rh-caudalanteriorcingulate','ctx-rh-caudalmiddlefrontal','ctx-rh-cuneus','ctx-rh-entorhinal','ctx-rh-fusiform','ctx-rh-inferiorparietal','ctx-rh-inferiortemporal','ctx-rh-isthmuscingulate','ctx-rh-lateraloccipital','ctx-rh-lateralorbitofrontal','ctx-rh-lingual','ctx-rh-medialorbitofrontal','ctx-rh-middletemporal','ctx-rh-parahippocampal','ctx-rh-paracentral','ctx-rh-parsopercularis','ctx-rh-parsorbitalis','ctx-rh-parstriangularis','ctx-rh-pericalcarine','ctx-rh-postcentral','ctx-rh-posteriorcingulate','ctx-rh-precentral','ctx-rh-precuneus','ctx-rh-rostralanteriorcingulate','ctx-rh-rostralmiddlefrontal','ctx-rh-superiorfrontal','ctx-rh-superiorparietal','ctx-rh-superiortemporal','ctx-rh-supramarginal','ctx-rh-frontalpole','ctx-rh-temporalpole','ctx-rh-transversetemporal','ctx-rh-insula']\n",
    "\n",
    "with open('../data/external/F-TRACT_DKT/DKT.txt', 'r') as f:\n",
    "    parcell_ids =  [i for i,line in enumerate(f) if line[:-1] in parcells_list]\n",
    "\n",
    "response_probability = response_probability[np.ix_(parcell_ids, parcell_ids)]"
   ]
  },
  {
   "cell_type": "code",
   "execution_count": 46,
   "metadata": {},
   "outputs": [
    {
     "name": "stderr",
     "output_type": "stream",
     "text": [
      "/tmp/ipykernel_23769/2541278257.py:11: RuntimeWarning: divide by zero encountered in divide\n",
      "  L = np.where(SC==0.0,0,1/SC)\n"
     ]
    },
    {
     "data": {
      "text/plain": [
       "SignificanceResult(statistic=0.04545101922729397, pvalue=0.10641779350755716)"
      ]
     },
     "execution_count": 46,
     "metadata": {},
     "output_type": "execute_result"
    }
   ],
   "source": [
    "# Load cortico-cortical structural connectivity data\n",
    "SC, sc_ctx_labels, _, _ = load_sc()\n",
    "FC, fc_ctx_labels, _, _ = load_fc()\n",
    "\n",
    "# Plot cortico-cortical connectivity matrices\n",
    "if PLOT:\n",
    "    sc_plot = plotting.plot_matrix(SC, figure=(9, 9), labels=sc_ctx_labels, vmax=10, vmin=0, cmap='Blues')  \n",
    "    fc_plot = plotting.plot_matrix(FC, figure=(9, 9), labels=fc_ctx_labels, vmax=10, vmin=0, cmap='Reds')  \n",
    "\n",
    "# distance matrix from SC\n",
    "L = np.where(SC==0.0,0,1/SC)\n",
    "\n",
    "def coor_with_response_probability(X):\n",
    "    return spearmanr(X.flatten(),response_probability.flatten(),nan_policy='omit')"
   ]
  },
  {
   "cell_type": "code",
   "execution_count": 39,
   "metadata": {},
   "outputs": [
    {
     "data": {
      "text/plain": [
       "SignificanceResult(statistic=0.3488356789960631, pvalue=1.89464172494047e-37)"
      ]
     },
     "execution_count": 39,
     "metadata": {},
     "output_type": "execute_result"
    }
   ],
   "source": [
    "coor_with_response_probability(SC)"
   ]
  },
  {
   "cell_type": "code",
   "execution_count": 40,
   "metadata": {},
   "outputs": [
    {
     "data": {
      "text/plain": [
       "SignificanceResult(statistic=0.04545101922729397, pvalue=0.10641779350755716)"
      ]
     },
     "execution_count": 40,
     "metadata": {},
     "output_type": "execute_result"
    }
   ],
   "source": [
    "coor_with_response_probability(FC)"
   ]
  },
  {
   "cell_type": "code",
   "execution_count": 41,
   "metadata": {},
   "outputs": [
    {
     "name": "stderr",
     "output_type": "stream",
     "text": [
      "/tmp/ipykernel_23769/1652578655.py:3: RuntimeWarning: divide by zero encountered in divide\n",
      "  shorest_path_eff = np.divide(1,shorest_paths)\n"
     ]
    },
    {
     "data": {
      "text/plain": [
       "SignificanceResult(statistic=0.41326369998828494, pvalue=1.3399665086721805e-51)"
      ]
     },
     "execution_count": 41,
     "metadata": {},
     "output_type": "execute_result"
    }
   ],
   "source": [
    "# shortest path efficiency\n",
    "shorest_paths,_ = metrics.distance_wei_floyd(L)\n",
    "shorest_path_eff = np.divide(1,shorest_paths)\n",
    "\n",
    "coor_with_response_probability(shorest_path_eff)"
   ]
  },
  {
   "cell_type": "code",
   "execution_count": 42,
   "metadata": {},
   "outputs": [
    {
     "data": {
      "text/plain": [
       "SignificanceResult(statistic=0.34072505429401195, pvalue=1.0609201494863236e-35)"
      ]
     },
     "execution_count": 42,
     "metadata": {},
     "output_type": "execute_result"
    }
   ],
   "source": [
    "com = metrics.communicability_wei(SC)\n",
    "\n",
    "coor_with_response_probability(com)"
   ]
  },
  {
   "cell_type": "code",
   "execution_count": 43,
   "metadata": {},
   "outputs": [
    {
     "data": {
      "text/plain": [
       "SignificanceResult(statistic=-0.40619054270894844, pvalue=9.54648448432795e-50)"
      ]
     },
     "execution_count": 43,
     "metadata": {},
     "output_type": "execute_result"
    }
   ],
   "source": [
    "SI = metrics.search_information(SC,L)\n",
    "\n",
    "coor_with_response_probability(SI)"
   ]
  },
  {
   "cell_type": "code",
   "execution_count": 44,
   "metadata": {},
   "outputs": [
    {
     "name": "stderr",
     "output_type": "stream",
     "text": [
      "/home/katterrina/fi_muni/0_diplomka/__venv__/lib/python3.10/site-packages/netneurotools/metrics.py:780: RuntimeWarning: divide by zero encountered in divide\n",
      "  E_diff = np.divide(1, mfpt)\n"
     ]
    },
    {
     "data": {
      "text/plain": [
       "SignificanceResult(statistic=-0.03070366004996593, pvalue=0.2755611381535449)"
      ]
     },
     "execution_count": 44,
     "metadata": {},
     "output_type": "execute_result"
    }
   ],
   "source": [
    "# https://netneurolab.github.io/netneurotools/_modules/netneurotools/metrics.html#diffusion_efficiency\n",
    "diffusion = metrics.diffusion_efficiency(SC)[1] # tahle funkce určitě žere SC, a ne délky L\n",
    "\n",
    "coor_with_response_probability(diffusion)"
   ]
  },
  {
   "cell_type": "code",
   "execution_count": 45,
   "metadata": {},
   "outputs": [
    {
     "name": "stderr",
     "output_type": "stream",
     "text": [
      "/tmp/ipykernel_23769/2989905826.py:3: RuntimeWarning: divide by zero encountered in divide\n",
      "  nav_eff = np.divide(1,nav_paths)\n"
     ]
    },
    {
     "data": {
      "text/plain": [
       "SignificanceResult(statistic=0.06815598330241136, pvalue=0.017178279263492316)"
      ]
     },
     "execution_count": 45,
     "metadata": {},
     "output_type": "execute_result"
    }
   ],
   "source": [
    "# tady té funkci možná dávám špatný vstup?\n",
    "_,_,nav_paths,_,_ = metrics.navigation_wu(L, SC)\n",
    "nav_eff = np.divide(1,nav_paths)\n",
    "\n",
    "coor_with_response_probability(nav_eff)"
   ]
  },
  {
   "cell_type": "code",
   "execution_count": null,
   "metadata": {},
   "outputs": [],
   "source": []
  }
 ],
 "metadata": {
  "kernelspec": {
   "display_name": "__venv__",
   "language": "python",
   "name": "python3"
  },
  "language_info": {
   "codemirror_mode": {
    "name": "ipython",
    "version": 3
   },
   "file_extension": ".py",
   "mimetype": "text/x-python",
   "name": "python",
   "nbconvert_exporter": "python",
   "pygments_lexer": "ipython3",
   "version": "3.10.12"
  },
  "orig_nbformat": 4
 },
 "nbformat": 4,
 "nbformat_minor": 2
}
