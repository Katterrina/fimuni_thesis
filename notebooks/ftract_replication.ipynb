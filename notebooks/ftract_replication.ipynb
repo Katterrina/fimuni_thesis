{
 "cells": [
  {
   "cell_type": "code",
   "execution_count": 70,
   "metadata": {},
   "outputs": [
    {
     "name": "stdout",
     "output_type": "stream",
     "text": [
      "2024-01-29\n"
     ]
    }
   ],
   "source": [
    "import numpy as np\n",
    "import pandas as pd\n",
    "from scipy.sparse import csgraph\n",
    "import os\n",
    "\n",
    "import sys\n",
    "sys.path.append('../')\n",
    "from src import data\n",
    "from scipy.stats import spearmanr\n",
    "\n",
    "# https://github.com/aestrivex/bctpy\n",
    "# dokumentace asi jenom pro matlab? https://sites.google.com/site/bctnet/\n",
    "# from bct.algorithms import efficiency\n",
    "\n",
    "from netneurotools import metrics # zjistit, proč tohle nefunguje přes pip \n",
    "# (mám to stažené lokálně z Githubu a to pak funguje)\n",
    "\n",
    "from nilearn import plotting\n",
    "\n",
    "# https://neuraldatascience.io/7-eeg/mne_data.html\n",
    "%matplotlib widget\n",
    "\n",
    "PLOT=False\n",
    "\n",
    "!date -I"
   ]
  },
  {
   "cell_type": "code",
   "execution_count": 71,
   "metadata": {},
   "outputs": [
    {
     "name": "stdout",
     "output_type": "stream",
     "text": [
      "(70, 70)\n"
     ]
    }
   ],
   "source": [
    "# load data F-TRACT\n",
    "response_probability = np.loadtxt('../data/external/F-TRACT/DKT/probability.txt.gz')\n",
    "response_amplitude = np.loadtxt('../data/external/F-TRACT/DKT/amplitude__median.txt.gz')\n",
    "\n",
    "dkt_roi = ['ctx-lh-bankssts','ctx-lh-caudalanteriorcingulate','ctx-lh-caudalmiddlefrontal','ctx-lh-corpuscallosum','ctx-lh-cuneus','ctx-lh-entorhinal','ctx-lh-fusiform','ctx-lh-inferiorparietal','ctx-lh-inferiortemporal','ctx-lh-isthmuscingulate','ctx-lh-lateraloccipital','ctx-lh-lateralorbitofrontal','ctx-lh-lingual','ctx-lh-medialorbitofrontal','ctx-lh-middletemporal','ctx-lh-parahippocampal','ctx-lh-paracentral','ctx-lh-parsopercularis','ctx-lh-parsorbitalis','ctx-lh-parstriangularis','ctx-lh-pericalcarine','ctx-lh-postcentral','ctx-lh-posteriorcingulate','ctx-lh-precentral','ctx-lh-precuneus','ctx-lh-rostralanteriorcingulate','ctx-lh-rostralmiddlefrontal','ctx-lh-superiorfrontal','ctx-lh-superiorparietal','ctx-lh-superiortemporal','ctx-lh-supramarginal','ctx-lh-frontalpole','ctx-lh-temporalpole','ctx-lh-transversetemporal','ctx-lh-insula','ctx-rh-bankssts','ctx-rh-caudalanteriorcingulate','ctx-rh-caudalmiddlefrontal','ctx-rh-corpuscallosum','ctx-rh-cuneus','ctx-rh-entorhinal','ctx-rh-fusiform','ctx-rh-inferiorparietal','ctx-rh-inferiortemporal','ctx-rh-isthmuscingulate','ctx-rh-lateraloccipital','ctx-rh-lateralorbitofrontal','ctx-rh-lingual','ctx-rh-medialorbitofrontal','ctx-rh-middletemporal','ctx-rh-parahippocampal','ctx-rh-paracentral','ctx-rh-parsopercularis','ctx-rh-parsorbitalis','ctx-rh-parstriangularis','ctx-rh-pericalcarine','ctx-rh-postcentral','ctx-rh-posteriorcingulate','ctx-rh-precentral','ctx-rh-precuneus','ctx-rh-rostralanteriorcingulate','ctx-rh-rostralmiddlefrontal','ctx-rh-superiorfrontal','ctx-rh-superiorparietal','ctx-rh-superiortemporal','ctx-rh-supramarginal','ctx-rh-frontalpole','ctx-rh-temporalpole','ctx-rh-transversetemporal','ctx-rh-insula']\n",
    "\n",
    "with open('../data/external/F-TRACT/DKT/DKT.txt', 'r') as f:\n",
    "    parcell_ids =  [i for i,line in enumerate(f) if line[:-1] in dkt_roi]\n",
    "\n",
    "# select ROI\n",
    "response_probability = response_probability[np.ix_(parcell_ids, parcell_ids)]\n",
    "response_amplitude  = response_amplitude[np.ix_(parcell_ids, parcell_ids)]\n",
    "\n",
    "print(response_probability.shape)"
   ]
  },
  {
   "cell_type": "code",
   "execution_count": 72,
   "metadata": {},
   "outputs": [],
   "source": [
    "rootdir = \"../data/external/hcp/DKT/\"\n",
    "scdir = \"1StructuralConnectivity/\"\n",
    "fcdir = \"2FunctionalConnectivity/\"\n",
    "\n",
    "W, L = np.zeros((70,70)), np.zeros((70,70))\n",
    "\n",
    "for i in range(200):\n",
    "    counts_file = rootdir+scdir+f\"{i:03d}/Counts.csv\"\n",
    "    with open(counts_file,\"r\") as cf:\n",
    "        c = np.genfromtxt(cf,delimiter=\" \")\n",
    "    W += c/200\n",
    "    \n",
    "    lenghts_file = rootdir+scdir+f\"{i:03d}/Lengths.csv\"\n",
    "    with open(lenghts_file,\"r\") as lf:\n",
    "        l = np.genfromtxt(lf,delimiter=\" \")\n",
    "    L += l/200\n"
   ]
  },
  {
   "cell_type": "code",
   "execution_count": 73,
   "metadata": {},
   "outputs": [],
   "source": [
    "# shortcut for correlation of X with response probability and amplitude \n",
    "def coor_with_response(X):\n",
    "    r_probability = spearmanr(X.flatten(),response_probability.flatten(),nan_policy='omit')\n",
    "    r_amplitude_median = spearmanr(X.flatten(),response_amplitude.flatten(),nan_policy='omit')\n",
    "\n",
    "    print(f\"Correlation with response probabilty: {r_probability.statistic:.3f} (p={r_probability.pvalue:.3f})\")\n",
    "    print(f\"Correlation with response amplitude: {r_amplitude_median.statistic:.3f} (p={r_amplitude_median.pvalue:.3f})\")"
   ]
  },
  {
   "cell_type": "code",
   "execution_count": 74,
   "metadata": {},
   "outputs": [
    {
     "name": "stdout",
     "output_type": "stream",
     "text": [
      "Correlation with response probabilty: 0.461 (p=0.000)\n",
      "Correlation with response amplitude: -0.004 (p=0.953)\n"
     ]
    }
   ],
   "source": [
    "coor_with_response(W) "
   ]
  },
  {
   "cell_type": "code",
   "execution_count": 75,
   "metadata": {},
   "outputs": [
    {
     "name": "stdout",
     "output_type": "stream",
     "text": [
      "Correlation with response probabilty: -0.574 (p=0.000)\n",
      "Correlation with response amplitude: -0.116 (p=0.085)\n"
     ]
    }
   ],
   "source": [
    "coor_with_response(L) "
   ]
  },
  {
   "cell_type": "code",
   "execution_count": 76,
   "metadata": {},
   "outputs": [
    {
     "name": "stdout",
     "output_type": "stream",
     "text": [
      "Correlation with response probabilty: 0.452 (p=0.000)\n",
      "Correlation with response amplitude: -0.003 (p=0.968)\n"
     ]
    },
    {
     "name": "stderr",
     "output_type": "stream",
     "text": [
      "/tmp/ipykernel_24085/1122485199.py:3: RuntimeWarning: divide by zero encountered in divide\n",
      "  shorest_path_eff = np.divide(1,shorest_paths)\n"
     ]
    }
   ],
   "source": [
    "# shortest path efficiency\n",
    "shorest_paths,_ = metrics.distance_wei_floyd(L)\n",
    "shorest_path_eff = np.divide(1,shorest_paths)\n",
    "\n",
    "coor_with_response(shorest_path_eff)"
   ]
  },
  {
   "cell_type": "code",
   "execution_count": 77,
   "metadata": {},
   "outputs": [
    {
     "name": "stdout",
     "output_type": "stream",
     "text": [
      "Correlation with response probabilty: 0.329 (p=0.000)\n",
      "Correlation with response amplitude: -0.186 (p=0.006)\n"
     ]
    }
   ],
   "source": [
    "com = metrics.communicability_wei(W)\n",
    "\n",
    "coor_with_response(com)"
   ]
  },
  {
   "cell_type": "code",
   "execution_count": 78,
   "metadata": {},
   "outputs": [
    {
     "name": "stdout",
     "output_type": "stream",
     "text": [
      "Correlation with response probabilty: -0.406 (p=0.000)\n",
      "Correlation with response amplitude: 0.065 (p=0.385)\n"
     ]
    }
   ],
   "source": [
    "SI = metrics.search_information(W,L)\n",
    "\n",
    "coor_with_response(SI)"
   ]
  },
  {
   "cell_type": "code",
   "execution_count": 79,
   "metadata": {},
   "outputs": [
    {
     "name": "stdout",
     "output_type": "stream",
     "text": [
      "Correlation with response probabilty: -0.233 (p=0.000)\n",
      "Correlation with response amplitude: -0.089 (p=0.186)\n"
     ]
    },
    {
     "name": "stderr",
     "output_type": "stream",
     "text": [
      "/home/katterrina/fi_muni/0_diplomka/__venv__/lib/python3.10/site-packages/netneurotools/metrics.py:780: RuntimeWarning: divide by zero encountered in divide\n",
      "  E_diff = np.divide(1, mfpt)\n"
     ]
    }
   ],
   "source": [
    "# https://netneurolab.github.io/netneurotools/_modules/netneurotools/metrics.html#diffusion_efficiency\n",
    "diffusion = metrics.diffusion_efficiency(W)[1] # tahle funkce určitě má dostat SC, a ne délky L\n",
    "\n",
    "coor_with_response(diffusion)"
   ]
  },
  {
   "cell_type": "code",
   "execution_count": 80,
   "metadata": {},
   "outputs": [
    {
     "name": "stderr",
     "output_type": "stream",
     "text": [
      "/tmp/ipykernel_24085/2471498993.py:3: RuntimeWarning: divide by zero encountered in divide\n",
      "  nav_eff = np.divide(1,nav_paths)\n"
     ]
    },
    {
     "name": "stdout",
     "output_type": "stream",
     "text": [
      "Correlation with response probabilty: 0.455 (p=0.000)\n",
      "Correlation with response amplitude: -0.008 (p=0.918)\n"
     ]
    }
   ],
   "source": [
    "# tady té funkci možná dávám špatný vstup?\n",
    "_,_,nav_paths,_,_ = metrics.navigation_wu(L, W)\n",
    "nav_eff = np.divide(1,nav_paths)\n",
    "\n",
    "coor_with_response(nav_eff)"
   ]
  }
 ],
 "metadata": {
  "kernelspec": {
   "display_name": "__venv__",
   "language": "python",
   "name": "python3"
  },
  "language_info": {
   "codemirror_mode": {
    "name": "ipython",
    "version": 3
   },
   "file_extension": ".py",
   "mimetype": "text/x-python",
   "name": "python",
   "nbconvert_exporter": "python",
   "pygments_lexer": "ipython3",
   "version": "3.10.12"
  },
  "orig_nbformat": 4
 },
 "nbformat": 4,
 "nbformat_minor": 2
}
