{
 "cells": [
  {
   "cell_type": "code",
   "execution_count": 1,
   "metadata": {
    "tags": []
   },
   "outputs": [
    {
     "name": "stderr",
     "output_type": "stream",
     "text": [
      "WARNING:root:ENIGMA toolbox not installed, respective data loading will be not available.\n"
     ]
    },
    {
     "name": "stdout",
     "output_type": "stream",
     "text": [
      "2024-05-02\n"
     ]
    }
   ],
   "source": [
    "%load_ext autoreload\n",
    "%autoreload 2\n",
    "\n",
    "%matplotlib inline\n",
    "\n",
    "import numpy as np\n",
    "import matplotlib.pylab as plt\n",
    "\n",
    "from matplotlib import rcParams\n",
    "rcParams['figure.figsize'] = 15,6\n",
    "\n",
    "from src import data\n",
    "!date -I"
   ]
  },
  {
   "cell_type": "markdown",
   "metadata": {},
   "source": [
    "https://siibra-python.readthedocs.io/en/latest/examples/05_anatomical_assignment/001_coordinates.html"
   ]
  },
  {
   "cell_type": "code",
   "execution_count": 21,
   "metadata": {},
   "outputs": [],
   "source": [
    "import pandas as pd"
   ]
  },
  {
   "cell_type": "code",
   "execution_count": 2,
   "metadata": {},
   "outputs": [
    {
     "name": "stderr",
     "output_type": "stream",
     "text": [
      "[siibra:INFO] Version: 1.0a09\n",
      "INFO:siibra:Version: 1.0a09\n",
      "[siibra:WARNING] This is a development release. Use at your own risk.\n",
      "WARNING:siibra:This is a development release. Use at your own risk.\n",
      "[siibra:INFO] Please file bugs and issues at https://github.com/FZJ-INM1-BDA/siibra-python.\n",
      "INFO:siibra:Please file bugs and issues at https://github.com/FZJ-INM1-BDA/siibra-python.\n"
     ]
    }
   ],
   "source": [
    "import siibra"
   ]
  },
  {
   "cell_type": "code",
   "execution_count": 4,
   "metadata": {},
   "outputs": [],
   "source": [
    "from nilearn import plotting"
   ]
  },
  {
   "cell_type": "code",
   "execution_count": 9,
   "metadata": {},
   "outputs": [
    {
     "name": "stdout",
     "output_type": "stream",
     "text": [
      "InstanceTable:\n",
      " - DEEP_WHITE_MATTER_FIBRE_BUNDLES\n",
      " - SUPERFICIAL_FIBRE_BUNDLES\n",
      " - CORTICAL_LAYER_SEGMENTATION_OF_THE_BIGBRAIN_MODEL\n",
      " - DIFUMO_ATLAS_1024_DIMENSIONS\n",
      " - DIFUMO_ATLAS_128_DIMENSIONS\n",
      " - DIFUMO_ATLAS_256_DIMENSIONS\n",
      " - DIFUMO_ATLAS_512_DIMENSIONS\n",
      " - DIFUMO_ATLAS_64_DIMENSIONS\n",
      " - DESIKAN_KILLIANY_ATLAS_2006\n",
      " - HARVARDOXFORD_CORT_MAXPROB_THR0\n",
      " - HARVARDOXFORD_CORT_MAXPROB_THR25\n",
      " - ISOCORTEX_SEGMENTATION\n",
      " - JULICH_BRAIN_CYTOARCHITECTONIC_ATLAS_V1_18\n",
      " - JULICH_BRAIN_CYTOARCHITECTONIC_ATLAS_V2_9\n",
      " - JULICH_BRAIN_CYTOARCHITECTONIC_ATLAS_V3_0_3\n",
      " - PRERELEASE_JULICH_BRAIN_CYTOARCHITECTONIC_ATLAS_V3_1\n",
      " - MARSATLAS_CORTICAL_PARCELLATION_MODEL\n",
      " - MEBRAINS_POPULATION_BASED_MONKEY_PARCELLATION\n",
      " - ALLEN_MOUSE_COMMON_COORDINATE_FRAMEWORK_V3_2015\n",
      " - ALLEN_MOUSE_COMMON_COORDINATE_FRAMEWORK_V3_2017\n",
      " - WAXHOLM_SPACE_ATLAS_OF_THE_SPRAGUE_DAWLEY_RAT_BRAIN_V1_01\n",
      " - WAXHOLM_SPACE_ATLAS_OF_THE_SPRAGUE_DAWLEY_RAT_BRAIN_V2\n",
      " - WAXHOLM_SPACE_ATLAS_OF_THE_SPRAGUE_DAWLEY_RAT_BRAIN_V3\n",
      " - WAXHOLM_SPACE_ATLAS_OF_THE_SPRAGUE_DAWLEY_RAT_BRAIN_V4\n",
      " - ATLAS_OF_THE_SHORT_FIBER_BUNDLES_INFERRED_FROM_THE_HUMAN_CONNECTOME_PROJECT_DIFFUSION_MRI_DATASET\n",
      " - VIRTUAL_EPILEPTIC_PATIENT_ATLAS\n",
      " - VON_ECONOMO_KOSKINAS_BRAIN_ATLAS\n"
     ]
    }
   ],
   "source": [
    "print(siibra.parcellations)"
   ]
  },
  {
   "cell_type": "code",
   "execution_count": 12,
   "metadata": {},
   "outputs": [
    {
     "data": {
      "text/plain": [
       "<Map(identifier='siibra-map-v0.0.1_mni152-dk-labelled', name='mni152 dk labelled', species='Homo sapiens')>"
      ]
     },
     "execution_count": 12,
     "metadata": {},
     "output_type": "execute_result"
    }
   ],
   "source": [
    "dk_map = siibra.get_map(\n",
    "    parcellation=\"desikan killiany\",\n",
    "    space=\"mni152\",\n",
    ")\n",
    "dk_map"
   ]
  },
  {
   "cell_type": "code",
   "execution_count": 14,
   "metadata": {},
   "outputs": [
    {
     "name": "stderr",
     "output_type": "stream",
     "text": [
      "Computing centroids: 100%|█████████████████| 68/68 [00:17<00:00,  3.87regions/s]\n"
     ]
    }
   ],
   "source": [
    "dk_centroids = dk_map.compute_centroids()"
   ]
  },
  {
   "cell_type": "code",
   "execution_count": 26,
   "metadata": {},
   "outputs": [
    {
     "data": {
      "text/html": [
       "<div>\n",
       "<style scoped>\n",
       "    .dataframe tbody tr th:only-of-type {\n",
       "        vertical-align: middle;\n",
       "    }\n",
       "\n",
       "    .dataframe tbody tr th {\n",
       "        vertical-align: top;\n",
       "    }\n",
       "\n",
       "    .dataframe thead th {\n",
       "        text-align: right;\n",
       "    }\n",
       "</style>\n",
       "<table border=\"1\" class=\"dataframe\">\n",
       "  <thead>\n",
       "    <tr style=\"text-align: right;\">\n",
       "      <th></th>\n",
       "      <th>roi</th>\n",
       "      <th>x</th>\n",
       "      <th>y</th>\n",
       "      <th>z</th>\n",
       "    </tr>\n",
       "  </thead>\n",
       "  <tbody>\n",
       "    <tr>\n",
       "      <th>0</th>\n",
       "      <td>left entorhinal</td>\n",
       "      <td>-22.378111</td>\n",
       "      <td>-5.029085</td>\n",
       "      <td>-31.095052</td>\n",
       "    </tr>\n",
       "    <tr>\n",
       "      <th>1</th>\n",
       "      <td>right entorhinal</td>\n",
       "      <td>22.211649</td>\n",
       "      <td>-2.828987</td>\n",
       "      <td>-32.685743</td>\n",
       "    </tr>\n",
       "    <tr>\n",
       "      <th>2</th>\n",
       "      <td>left parahippocampal</td>\n",
       "      <td>-22.960137</td>\n",
       "      <td>-30.033906</td>\n",
       "      <td>-18.123711</td>\n",
       "    </tr>\n",
       "    <tr>\n",
       "      <th>3</th>\n",
       "      <td>right parahippocampal</td>\n",
       "      <td>24.213605</td>\n",
       "      <td>-28.463821</td>\n",
       "      <td>-18.370667</td>\n",
       "    </tr>\n",
       "    <tr>\n",
       "      <th>4</th>\n",
       "      <td>left fusiform</td>\n",
       "      <td>-34.086627</td>\n",
       "      <td>-42.102489</td>\n",
       "      <td>-21.575999</td>\n",
       "    </tr>\n",
       "    <tr>\n",
       "      <th>...</th>\n",
       "      <td>...</td>\n",
       "      <td>...</td>\n",
       "      <td>...</td>\n",
       "      <td>...</td>\n",
       "    </tr>\n",
       "    <tr>\n",
       "      <th>63</th>\n",
       "      <td>left frontalpole</td>\n",
       "      <td>-6.849294</td>\n",
       "      <td>65.388540</td>\n",
       "      <td>-8.583987</td>\n",
       "    </tr>\n",
       "    <tr>\n",
       "      <th>64</th>\n",
       "      <td>left temporalpole</td>\n",
       "      <td>-29.388793</td>\n",
       "      <td>12.457171</td>\n",
       "      <td>-35.593434</td>\n",
       "    </tr>\n",
       "    <tr>\n",
       "      <th>65</th>\n",
       "      <td>right bankssts</td>\n",
       "      <td>55.453003</td>\n",
       "      <td>-39.063183</td>\n",
       "      <td>7.923167</td>\n",
       "    </tr>\n",
       "    <tr>\n",
       "      <th>66</th>\n",
       "      <td>right frontalpole</td>\n",
       "      <td>8.600437</td>\n",
       "      <td>65.293122</td>\n",
       "      <td>-10.081878</td>\n",
       "    </tr>\n",
       "    <tr>\n",
       "      <th>67</th>\n",
       "      <td>right temporalpole</td>\n",
       "      <td>29.731617</td>\n",
       "      <td>14.370636</td>\n",
       "      <td>-33.997029</td>\n",
       "    </tr>\n",
       "  </tbody>\n",
       "</table>\n",
       "<p>68 rows × 4 columns</p>\n",
       "</div>"
      ],
      "text/plain": [
       "                      roi          x          y          z\n",
       "0         left entorhinal -22.378111  -5.029085 -31.095052\n",
       "1        right entorhinal  22.211649  -2.828987 -32.685743\n",
       "2    left parahippocampal -22.960137 -30.033906 -18.123711\n",
       "3   right parahippocampal  24.213605 -28.463821 -18.370667\n",
       "4           left fusiform -34.086627 -42.102489 -21.575999\n",
       "..                    ...        ...        ...        ...\n",
       "63       left frontalpole  -6.849294  65.388540  -8.583987\n",
       "64      left temporalpole -29.388793  12.457171 -35.593434\n",
       "65         right bankssts  55.453003 -39.063183   7.923167\n",
       "66      right frontalpole   8.600437  65.293122 -10.081878\n",
       "67     right temporalpole  29.731617  14.370636 -33.997029\n",
       "\n",
       "[68 rows x 4 columns]"
      ]
     },
     "execution_count": 26,
     "metadata": {},
     "output_type": "execute_result"
    }
   ],
   "source": [
    "df = (pd.DataFrame()\n",
    " .assign(roi=dk_map.regions)\n",
    " .assign(x=lambda d : [ dk_centroids[r][0] for r in d.roi])\n",
    " .assign(y=lambda d : [ dk_centroids[r][1] for r in d.roi])\n",
    " .assign(z=lambda d : [ dk_centroids[r][2] for r in d.roi])\n",
    ")\n",
    "df"
   ]
  },
  {
   "cell_type": "code",
   "execution_count": 34,
   "metadata": {},
   "outputs": [
    {
     "data": {
      "text/plain": [
       "<nilearn.plotting.displays._slicers.OrthoSlicer at 0x755c0c2665f0>"
      ]
     },
     "execution_count": 34,
     "metadata": {},
     "output_type": "execute_result"
    },
    {
     "data": {
      "image/png": "[encoded data removed]",
      "text/plain": [
       "<Figure size 660x350 with 4 Axes>"
      ]
     },
     "metadata": {},
     "output_type": "display_data"
    }
   ],
   "source": [
    "plotting.plot_roi(dk_map.fetch('right frontalpole'))"
   ]
  },
  {
   "cell_type": "code",
   "execution_count": 39,
   "metadata": {},
   "outputs": [],
   "source": [
    "%mkdir -p {data.path('external/dk_parcellation_centroids')}"
   ]
  },
  {
   "cell_type": "code",
   "execution_count": 40,
   "metadata": {},
   "outputs": [],
   "source": [
    "df.to_csv(data.path('external/dk_parcellation_centroids/dk_centroids.csv'), index=False)"
   ]
  }
 ],
 "metadata": {
  "kernelspec": {
   "display_name": "Python 3 (ipykernel)",
   "language": "python",
   "name": "python3"
  },
  "language_info": {
   "codemirror_mode": {
    "name": "ipython",
    "version": 3
   },
   "file_extension": ".py",
   "mimetype": "text/x-python",
   "name": "python",
   "nbconvert_exporter": "python",
   "pygments_lexer": "ipython3",
   "version": "3.10.12"
  }
 },
 "nbformat": 4,
 "nbformat_minor": 4
}
