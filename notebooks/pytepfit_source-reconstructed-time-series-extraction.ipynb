{
 "cells": [
  {
   "cell_type": "code",
   "execution_count": null,
   "id": "ee3d90df-f4d6-449e-ac1c-1c261ffc71dc",
   "metadata": {},
   "outputs": [],
   "source": [
    "import numpy as np\n",
    "import pandas as pd\n",
    "import mne\n",
    "\n",
    "import sys\n",
    "sys.path.append('../')\n",
    "from src import data\n",
    "\n",
    "import matplotlib.pylab as plt\n",
    "from nilearn import datasets\n",
    "\n",
    "!date -I"
   ]
  },
  {
   "cell_type": "code",
   "execution_count": null,
   "id": "2559fc89-5313-4420-8ca2-4d407a55493d",
   "metadata": {},
   "outputs": [],
   "source": [
    "%ls {data.path('external/pytepfit/')}"
   ]
  },
  {
   "cell_type": "code",
   "execution_count": null,
   "id": "d7e64575-139b-4450-a400-5752262dcaa6",
   "metadata": {},
   "outputs": [],
   "source": [
    "sim_stc = mne.read_source_estimate(data.path('external/pytepfit/stc_sim_evoked_new'))\n",
    "real_stc = mne.read_source_estimate(data.path('external/pytepfit/all_avg_high-stc'))"
   ]
  },
  {
   "cell_type": "code",
   "execution_count": null,
   "id": "528a87bd",
   "metadata": {},
   "outputs": [],
   "source": [
    "subjects_dir=data.path('external/pytepfit/')\n",
    "\n",
    "PLOT_3D = False\n",
    "\n",
    "surfer_kwargs = dict(\n",
    "    subject='fsaverage',\n",
    "    subjects_dir=subjects_dir,\n",
    "    initial_time=0.1,\n",
    "    smoothing_steps=6,\n",
    "    show_traces='label',\n",
    ")\n",
    "\n",
    "if PLOT_3D:\n",
    "    surfer_kwargs['views'] = \"axial\"\n",
    "    surfer_kwargs['hemi'] = \"both\"\n",
    "else:\n",
    "    surfer_kwargs[\"backend\"] = \"matplotlib\"\n",
    "    surfer_kwargs['hemi'] = \"lh\"\n",
    "    surfer_kwargs['views'] = 'lat'\n",
    "\n",
    "brain = real_stc.plot(**surfer_kwargs)"
   ]
  },
  {
   "cell_type": "code",
   "execution_count": null,
   "id": "fc650f73-0c0b-4e60-8d19-2f9b48a2d385",
   "metadata": {},
   "outputs": [],
   "source": [
    "df = pd.read_csv(data.path('external/pytepfit/Schaefer2018_200Parcels_7Networks_order_FSLMNI152_2mm.Centroid_RAS.csv'))\n",
    "df"
   ]
  },
  {
   "cell_type": "code",
   "execution_count": null,
   "id": "de5a3f09",
   "metadata": {},
   "outputs": [],
   "source": [
    "stim_weights = np.load('../data/external/pytepfit/stim_weights.npy')\n",
    "stim_locatin = np.argmax(stim_weights)\n",
    "\n",
    "plt.rcParams['figure.figsize'] = [10, 3]\n",
    "plt.figure()\n",
    "plt.plot(stim_weights)\n",
    "plt.vlines(stim_locatin,0,1,colors='r')\n",
    "plt.show()"
   ]
  },
  {
   "cell_type": "code",
   "execution_count": null,
   "id": "1543c0f4",
   "metadata": {},
   "outputs": [],
   "source": [
    "stim_roi_label = df.iloc[stim_locatin]\n",
    "stim_roi_label"
   ]
  },
  {
   "cell_type": "code",
   "execution_count": null,
   "id": "754c3b82-2df9-4327-ab84-4be6d267856a",
   "metadata": {},
   "outputs": [],
   "source": [
    "src = mne.read_source_spaces(data.path('external/pytepfit/fsaverage/fsaverage-src'), verbose=False)\n",
    "src.plot(subjects_dir=subjects_dir)"
   ]
  },
  {
   "cell_type": "code",
   "execution_count": null,
   "id": "52a047b6-953b-4738-bf17-07a4b308348b",
   "metadata": {},
   "outputs": [],
   "source": [
    "labels_Schaefer = mne.read_labels_from_annot('fsaverage',\n",
    "                                             parc='Schaefer2018_200Parcels_7Networks_order', \n",
    "                                             subjects_dir=subjects_dir, \n",
    "                                             verbose=False)\n",
    "\n",
    "labels_Schaefer_relevant = labels_Schaefer[1:-1]\n",
    "labels_Schaefer_relevant_names = [l.name[:-3] for l in labels_Schaefer_relevant]\n",
    "\n",
    "labels_Schaefer_relevant_names[:10]"
   ]
  },
  {
   "cell_type": "code",
   "execution_count": null,
   "id": "23ce2b9d-3823-4cf0-940f-987370f75880",
   "metadata": {},
   "outputs": [],
   "source": [
    "real_label_ts = mne.extract_label_time_course(real_stc, labels_Schaefer_relevant, src, mode='mean_flip')\n",
    "sim_label_ts = mne.extract_label_time_course(sim_stc, labels_Schaefer_relevant, src, mode='mean_flip')"
   ]
  },
  {
   "cell_type": "code",
   "execution_count": null,
   "id": "82fbebd6-d96c-4105-8c11-c55f6c7cce08",
   "metadata": {},
   "outputs": [],
   "source": [
    "sim_label_ts.shape"
   ]
  },
  {
   "cell_type": "code",
   "execution_count": null,
   "id": "5227d6de-9168-488d-991d-59fc257f17ef",
   "metadata": {},
   "outputs": [],
   "source": [
    "len(labels_Schaefer[1:-1])"
   ]
  },
  {
   "cell_type": "code",
   "execution_count": null,
   "id": "81bd8498-f8d1-482b-ac07-a2f651882f53",
   "metadata": {},
   "outputs": [],
   "source": [
    "plt.plot(real_label_ts[1:-1,:].T);"
   ]
  },
  {
   "cell_type": "code",
   "execution_count": null,
   "id": "a0e54049-3338-4fd8-9fa8-4736c0a73027",
   "metadata": {},
   "outputs": [],
   "source": [
    "plt.plot(sim_label_ts[1:-1,:].T);"
   ]
  },
  {
   "cell_type": "code",
   "execution_count": null,
   "id": "555dbf96-3704-4da9-9926-5e1d7679e1cf",
   "metadata": {},
   "outputs": [],
   "source": [
    "plt.plot(real_label_ts[1:-1,900:1300].T);"
   ]
  },
  {
   "cell_type": "code",
   "execution_count": null,
   "id": "fe50dcae-ab0b-4974-acd5-400e0be44fec",
   "metadata": {},
   "outputs": [],
   "source": [
    "plt.plot(sim_label_ts[1:-1,900:1300].T);"
   ]
  },
  {
   "cell_type": "code",
   "execution_count": null,
   "id": "5ce37b33-ea40-465e-b2fc-b2e2e480b3cf",
   "metadata": {},
   "outputs": [],
   "source": [
    "ts_labels = np.array([l.name for l in labels_Schaefer[1:-1]])"
   ]
  },
  {
   "cell_type": "code",
   "execution_count": null,
   "id": "8378d63b",
   "metadata": {},
   "outputs": [],
   "source": [
    "stim_loc_ts_labels = None\n",
    "\n",
    "for i,l in enumerate(ts_labels):\n",
    "    if l == stim_roi_label[\"ROI Name\"]+'-lh':\n",
    "        stim_loc_ts_labels  = i\n",
    "\n",
    "stim_loc_ts_labels"
   ]
  },
  {
   "cell_type": "code",
   "execution_count": null,
   "id": "3750d18b-e6b5-4a0b-812d-2ecc33a92e31",
   "metadata": {},
   "outputs": [],
   "source": [
    "np.savez(data.path('external/pytepfit/source_estimates/simulated.npz'), ts=sim_label_ts[1:-1,900:1300].T, labels=ts_labels, stim_location=stim_loc_ts_labels)"
   ]
  },
  {
   "cell_type": "code",
   "execution_count": null,
   "id": "fdb0ddbf-633b-4d74-9666-96460d7a35f7",
   "metadata": {},
   "outputs": [],
   "source": [
    "np.savez(data.path('external/pytepfit/source_estimates/empirical.npz'), ts=real_label_ts[1:-1,900:1300].T, labels=ts_labels, stim_location=stim_loc_ts_labels)"
   ]
  },
  {
   "cell_type": "code",
   "execution_count": null,
   "id": "b053860e",
   "metadata": {},
   "outputs": [],
   "source": []
  }
 ],
 "metadata": {
  "kernelspec": {
   "display_name": "Python 3 (ipykernel)",
   "language": "python",
   "name": "python3"
  },
  "language_info": {
   "codemirror_mode": {
    "name": "ipython",
    "version": 3
   },
   "file_extension": ".py",
   "mimetype": "text/x-python",
   "name": "python",
   "nbconvert_exporter": "python",
   "pygments_lexer": "ipython3",
   "version": "3.10.12"
  }
 },
 "nbformat": 4,
 "nbformat_minor": 5
}
