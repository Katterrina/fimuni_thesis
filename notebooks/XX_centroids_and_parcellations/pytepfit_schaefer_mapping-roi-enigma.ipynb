{
 "cells": [
  {
   "cell_type": "code",
   "execution_count": 8,
   "id": "ee3d90df-f4d6-449e-ac1c-1c261ffc71dc",
   "metadata": {},
   "outputs": [
    {
     "name": "stdout",
     "output_type": "stream",
     "text": [
      "2024-05-18\n"
     ]
    }
   ],
   "source": [
    "import pandas as pd\n",
    "from src import data,paths\n",
    "\n",
    "from enigmatoolbox.datasets import load_sc\n",
    "\n",
    "!date -I"
   ]
  },
  {
   "cell_type": "markdown",
   "metadata": {},
   "source": [
    "# Find what ROI order and names are used in ENIGMATOOLBOX \n",
    "\n",
    "Find what ROI order and names are used in ENIGMATOOLBOX  for Schaefer parcellation, because Schaefer200 used in TMS-EEG data from PyTepFit."
   ]
  },
  {
   "cell_type": "code",
   "execution_count": 9,
   "metadata": {},
   "outputs": [
    {
     "data": {
      "text/html": [
       "<div>\n",
       "<style scoped>\n",
       "    .dataframe tbody tr th:only-of-type {\n",
       "        vertical-align: middle;\n",
       "    }\n",
       "\n",
       "    .dataframe tbody tr th {\n",
       "        vertical-align: top;\n",
       "    }\n",
       "\n",
       "    .dataframe thead th {\n",
       "        text-align: right;\n",
       "    }\n",
       "</style>\n",
       "<table border=\"1\" class=\"dataframe\">\n",
       "  <thead>\n",
       "    <tr style=\"text-align: right;\">\n",
       "      <th></th>\n",
       "      <th>Unnamed: 0</th>\n",
       "      <th>roi_name</th>\n",
       "      <th>geom_mne</th>\n",
       "      <th>idx_csv</th>\n",
       "      <th>roi_name_csv</th>\n",
       "      <th>geom_csv</th>\n",
       "    </tr>\n",
       "  </thead>\n",
       "  <tbody>\n",
       "    <tr>\n",
       "      <th>0</th>\n",
       "      <td>0</td>\n",
       "      <td>7Networks_LH_Cont_Cing_1</td>\n",
       "      <td>[-8.446813583374023 -29.01348304748535 28.8850...</td>\n",
       "      <td>71</td>\n",
       "      <td>7Networks_LH_Cont_Cing_1</td>\n",
       "      <td>[-4 -28 28]</td>\n",
       "    </tr>\n",
       "    <tr>\n",
       "      <th>1</th>\n",
       "      <td>1</td>\n",
       "      <td>7Networks_LH_Cont_Cing_2</td>\n",
       "      <td>[-6.240661144256592 2.7394280433654785 30.2268...</td>\n",
       "      <td>72</td>\n",
       "      <td>7Networks_LH_Cont_Cing_2</td>\n",
       "      <td>[-4 4 30]</td>\n",
       "    </tr>\n",
       "    <tr>\n",
       "      <th>2</th>\n",
       "      <td>2</td>\n",
       "      <td>7Networks_LH_Cont_PFCl_1</td>\n",
       "      <td>[-31.280492782592773 38.78068161010742 -8.2036...</td>\n",
       "      <td>64</td>\n",
       "      <td>7Networks_LH_Cont_OFC_1</td>\n",
       "      <td>[-32 42 -14]</td>\n",
       "    </tr>\n",
       "    <tr>\n",
       "      <th>3</th>\n",
       "      <td>3</td>\n",
       "      <td>7Networks_LH_Cont_PFCl_2</td>\n",
       "      <td>[-39.06201171875 44.74260330200195 -4.83968830...</td>\n",
       "      <td>65</td>\n",
       "      <td>7Networks_LH_Cont_PFCl_1</td>\n",
       "      <td>[-42 50 -6]</td>\n",
       "    </tr>\n",
       "    <tr>\n",
       "      <th>4</th>\n",
       "      <td>4</td>\n",
       "      <td>7Networks_LH_Cont_PFCl_3</td>\n",
       "      <td>[-25.701366424560547 47.52610397338867 5.54739...</td>\n",
       "      <td>66</td>\n",
       "      <td>7Networks_LH_Cont_PFCl_2</td>\n",
       "      <td>[-28 58 8]</td>\n",
       "    </tr>\n",
       "    <tr>\n",
       "      <th>...</th>\n",
       "      <td>...</td>\n",
       "      <td>...</td>\n",
       "      <td>...</td>\n",
       "      <td>...</td>\n",
       "      <td>...</td>\n",
       "      <td>...</td>\n",
       "    </tr>\n",
       "    <tr>\n",
       "      <th>195</th>\n",
       "      <td>195</td>\n",
       "      <td>7Networks_RH_Vis_5</td>\n",
       "      <td>[41.96085357666016 -77.03132629394531 -3.23913...</td>\n",
       "      <td>104</td>\n",
       "      <td>7Networks_RH_Vis_5</td>\n",
       "      <td>[48 -72 -6]</td>\n",
       "    </tr>\n",
       "    <tr>\n",
       "      <th>196</th>\n",
       "      <td>196</td>\n",
       "      <td>7Networks_RH_Vis_6</td>\n",
       "      <td>[13.508061408996582 -93.16136932373048 -5.0760...</td>\n",
       "      <td>105</td>\n",
       "      <td>7Networks_RH_Vis_6</td>\n",
       "      <td>[12 -92 -6]</td>\n",
       "    </tr>\n",
       "    <tr>\n",
       "      <th>197</th>\n",
       "      <td>197</td>\n",
       "      <td>7Networks_RH_Vis_7</td>\n",
       "      <td>[22.263935089111328 -47.68022155761719 -2.5694...</td>\n",
       "      <td>106</td>\n",
       "      <td>7Networks_RH_Vis_7</td>\n",
       "      <td>[16 -46 -2]</td>\n",
       "    </tr>\n",
       "    <tr>\n",
       "      <th>198</th>\n",
       "      <td>198</td>\n",
       "      <td>7Networks_RH_Vis_8</td>\n",
       "      <td>[29.157928466796875 -94.4731216430664 -2.70837...</td>\n",
       "      <td>107</td>\n",
       "      <td>7Networks_RH_Vis_8</td>\n",
       "      <td>[30 -94 -4]</td>\n",
       "    </tr>\n",
       "    <tr>\n",
       "      <th>199</th>\n",
       "      <td>199</td>\n",
       "      <td>7Networks_RH_Vis_9</td>\n",
       "      <td>[16.017532348632812 -78.15303802490234 8.64853...</td>\n",
       "      <td>108</td>\n",
       "      <td>7Networks_RH_Vis_9</td>\n",
       "      <td>[8 -76 8]</td>\n",
       "    </tr>\n",
       "  </tbody>\n",
       "</table>\n",
       "<p>200 rows × 6 columns</p>\n",
       "</div>"
      ],
      "text/plain": [
       "     Unnamed: 0                  roi_name  \\\n",
       "0             0  7Networks_LH_Cont_Cing_1   \n",
       "1             1  7Networks_LH_Cont_Cing_2   \n",
       "2             2  7Networks_LH_Cont_PFCl_1   \n",
       "3             3  7Networks_LH_Cont_PFCl_2   \n",
       "4             4  7Networks_LH_Cont_PFCl_3   \n",
       "..          ...                       ...   \n",
       "195         195        7Networks_RH_Vis_5   \n",
       "196         196        7Networks_RH_Vis_6   \n",
       "197         197        7Networks_RH_Vis_7   \n",
       "198         198        7Networks_RH_Vis_8   \n",
       "199         199        7Networks_RH_Vis_9   \n",
       "\n",
       "                                              geom_mne  idx_csv  \\\n",
       "0    [-8.446813583374023 -29.01348304748535 28.8850...       71   \n",
       "1    [-6.240661144256592 2.7394280433654785 30.2268...       72   \n",
       "2    [-31.280492782592773 38.78068161010742 -8.2036...       64   \n",
       "3    [-39.06201171875 44.74260330200195 -4.83968830...       65   \n",
       "4    [-25.701366424560547 47.52610397338867 5.54739...       66   \n",
       "..                                                 ...      ...   \n",
       "195  [41.96085357666016 -77.03132629394531 -3.23913...      104   \n",
       "196  [13.508061408996582 -93.16136932373048 -5.0760...      105   \n",
       "197  [22.263935089111328 -47.68022155761719 -2.5694...      106   \n",
       "198  [29.157928466796875 -94.4731216430664 -2.70837...      107   \n",
       "199  [16.017532348632812 -78.15303802490234 8.64853...      108   \n",
       "\n",
       "                 roi_name_csv      geom_csv  \n",
       "0    7Networks_LH_Cont_Cing_1   [-4 -28 28]  \n",
       "1    7Networks_LH_Cont_Cing_2     [-4 4 30]  \n",
       "2     7Networks_LH_Cont_OFC_1  [-32 42 -14]  \n",
       "3    7Networks_LH_Cont_PFCl_1   [-42 50 -6]  \n",
       "4    7Networks_LH_Cont_PFCl_2    [-28 58 8]  \n",
       "..                        ...           ...  \n",
       "195        7Networks_RH_Vis_5   [48 -72 -6]  \n",
       "196        7Networks_RH_Vis_6   [12 -92 -6]  \n",
       "197        7Networks_RH_Vis_7   [16 -46 -2]  \n",
       "198        7Networks_RH_Vis_8   [30 -94 -4]  \n",
       "199        7Networks_RH_Vis_9     [8 -76 8]  \n",
       "\n",
       "[200 rows x 6 columns]"
      ]
     },
     "execution_count": 9,
     "metadata": {},
     "output_type": "execute_result"
    }
   ],
   "source": [
    "mapping_folder = 'interim/schaefer_parcellation_mappings'\n",
    "\n",
    "mapping = pd.read_csv(paths.path(f'{mapping_folder}/ROI_MAPPING_pytepfit.csv'))\n",
    "mapping"
   ]
  },
  {
   "cell_type": "code",
   "execution_count": 10,
   "metadata": {},
   "outputs": [],
   "source": [
    "SC, labels_SC, _, _ = load_sc(parcellation=\"schaefer_200\")"
   ]
  },
  {
   "cell_type": "code",
   "execution_count": 11,
   "metadata": {},
   "outputs": [
    {
     "data": {
      "text/plain": [
       "False"
      ]
     },
     "execution_count": 11,
     "metadata": {},
     "output_type": "execute_result"
    }
   ],
   "source": [
    "set(labels_SC) == set(mapping.roi_name)"
   ]
  },
  {
   "cell_type": "code",
   "execution_count": 12,
   "metadata": {},
   "outputs": [
    {
     "data": {
      "text/plain": [
       "True"
      ]
     },
     "execution_count": 12,
     "metadata": {},
     "output_type": "execute_result"
    }
   ],
   "source": [
    "set(labels_SC) == set(mapping.roi_name_csv)"
   ]
  },
  {
   "cell_type": "markdown",
   "metadata": {},
   "source": [
    "ROI names are the same as in the official 7Networks CSV file from Schaefer parcellation website, we aready have this mapping in a file loaded above (see [pytepfit_schaefer_mapping-roi-by-distance.ipynb](pytepfit_schaefer_mapping-roi-by-distance.ipynb)). We have to check if the order is the same as well."
   ]
  },
  {
   "cell_type": "code",
   "execution_count": 13,
   "metadata": {},
   "outputs": [
    {
     "data": {
      "text/html": [
       "<div>\n",
       "<style scoped>\n",
       "    .dataframe tbody tr th:only-of-type {\n",
       "        vertical-align: middle;\n",
       "    }\n",
       "\n",
       "    .dataframe tbody tr th {\n",
       "        vertical-align: top;\n",
       "    }\n",
       "\n",
       "    .dataframe thead th {\n",
       "        text-align: right;\n",
       "    }\n",
       "</style>\n",
       "<table border=\"1\" class=\"dataframe\">\n",
       "  <thead>\n",
       "    <tr style=\"text-align: right;\">\n",
       "      <th></th>\n",
       "      <th>ROI Label</th>\n",
       "      <th>ROI Name</th>\n",
       "      <th>R</th>\n",
       "      <th>A</th>\n",
       "      <th>S</th>\n",
       "    </tr>\n",
       "  </thead>\n",
       "  <tbody>\n",
       "    <tr>\n",
       "      <th>0</th>\n",
       "      <td>1</td>\n",
       "      <td>7Networks_LH_Vis_1</td>\n",
       "      <td>-24</td>\n",
       "      <td>-54</td>\n",
       "      <td>-10</td>\n",
       "    </tr>\n",
       "    <tr>\n",
       "      <th>1</th>\n",
       "      <td>2</td>\n",
       "      <td>7Networks_LH_Vis_2</td>\n",
       "      <td>-26</td>\n",
       "      <td>-78</td>\n",
       "      <td>-14</td>\n",
       "    </tr>\n",
       "    <tr>\n",
       "      <th>2</th>\n",
       "      <td>3</td>\n",
       "      <td>7Networks_LH_Vis_3</td>\n",
       "      <td>-46</td>\n",
       "      <td>-70</td>\n",
       "      <td>-8</td>\n",
       "    </tr>\n",
       "    <tr>\n",
       "      <th>3</th>\n",
       "      <td>4</td>\n",
       "      <td>7Networks_LH_Vis_4</td>\n",
       "      <td>-10</td>\n",
       "      <td>-68</td>\n",
       "      <td>-4</td>\n",
       "    </tr>\n",
       "    <tr>\n",
       "      <th>4</th>\n",
       "      <td>5</td>\n",
       "      <td>7Networks_LH_Vis_5</td>\n",
       "      <td>-26</td>\n",
       "      <td>-96</td>\n",
       "      <td>-12</td>\n",
       "    </tr>\n",
       "    <tr>\n",
       "      <th>...</th>\n",
       "      <td>...</td>\n",
       "      <td>...</td>\n",
       "      <td>...</td>\n",
       "      <td>...</td>\n",
       "      <td>...</td>\n",
       "    </tr>\n",
       "    <tr>\n",
       "      <th>195</th>\n",
       "      <td>196</td>\n",
       "      <td>7Networks_RH_Default_PFCdPFCm_6</td>\n",
       "      <td>28</td>\n",
       "      <td>30</td>\n",
       "      <td>42</td>\n",
       "    </tr>\n",
       "    <tr>\n",
       "      <th>196</th>\n",
       "      <td>197</td>\n",
       "      <td>7Networks_RH_Default_PFCdPFCm_7</td>\n",
       "      <td>24</td>\n",
       "      <td>24</td>\n",
       "      <td>54</td>\n",
       "    </tr>\n",
       "    <tr>\n",
       "      <th>197</th>\n",
       "      <td>198</td>\n",
       "      <td>7Networks_RH_Default_pCunPCC_1</td>\n",
       "      <td>12</td>\n",
       "      <td>-54</td>\n",
       "      <td>14</td>\n",
       "    </tr>\n",
       "    <tr>\n",
       "      <th>198</th>\n",
       "      <td>199</td>\n",
       "      <td>7Networks_RH_Default_pCunPCC_2</td>\n",
       "      <td>6</td>\n",
       "      <td>-48</td>\n",
       "      <td>30</td>\n",
       "    </tr>\n",
       "    <tr>\n",
       "      <th>199</th>\n",
       "      <td>200</td>\n",
       "      <td>7Networks_RH_Default_pCunPCC_3</td>\n",
       "      <td>6</td>\n",
       "      <td>-58</td>\n",
       "      <td>44</td>\n",
       "    </tr>\n",
       "  </tbody>\n",
       "</table>\n",
       "<p>200 rows × 5 columns</p>\n",
       "</div>"
      ],
      "text/plain": [
       "     ROI Label                         ROI Name   R   A   S\n",
       "0            1               7Networks_LH_Vis_1 -24 -54 -10\n",
       "1            2               7Networks_LH_Vis_2 -26 -78 -14\n",
       "2            3               7Networks_LH_Vis_3 -46 -70  -8\n",
       "3            4               7Networks_LH_Vis_4 -10 -68  -4\n",
       "4            5               7Networks_LH_Vis_5 -26 -96 -12\n",
       "..         ...                              ...  ..  ..  ..\n",
       "195        196  7Networks_RH_Default_PFCdPFCm_6  28  30  42\n",
       "196        197  7Networks_RH_Default_PFCdPFCm_7  24  24  54\n",
       "197        198   7Networks_RH_Default_pCunPCC_1  12 -54  14\n",
       "198        199   7Networks_RH_Default_pCunPCC_2   6 -48  30\n",
       "199        200   7Networks_RH_Default_pCunPCC_3   6 -58  44\n",
       "\n",
       "[200 rows x 5 columns]"
      ]
     },
     "execution_count": 13,
     "metadata": {},
     "output_type": "execute_result"
    }
   ],
   "source": [
    "df_csv = pd.read_csv(paths.path('external/schaefer_parcellation_centroids/Schaefer2018_200Parcels_7Networks_order_FSLMNI152_2mm.Centroid_RAS.csv'))\n",
    "df_csv"
   ]
  },
  {
   "cell_type": "code",
   "execution_count": 14,
   "metadata": {},
   "outputs": [
    {
     "name": "stdout",
     "output_type": "stream",
     "text": [
      "Great, the labels are in the same order!\n"
     ]
    }
   ],
   "source": [
    "for i,j in zip(labels_SC,df_csv[\"ROI Name\"]):\n",
    "    if i != j:\n",
    "        print(i,j)\n",
    "else:\n",
    "    print(\"Great, the labels are in the same order!\")"
   ]
  },
  {
   "cell_type": "markdown",
   "metadata": {},
   "source": [
    "The labels in ENIGMATOOLBOX correspond to the official Schaefer labels, so it is not necessary to create another mapping."
   ]
  },
  {
   "cell_type": "code",
   "execution_count": null,
   "metadata": {},
   "outputs": [],
   "source": []
  }
 ],
 "metadata": {
  "kernelspec": {
   "display_name": "__venv__",
   "language": "python",
   "name": "python3"
  },
  "language_info": {
   "codemirror_mode": {
    "name": "ipython",
    "version": 3
   },
   "file_extension": ".py",
   "mimetype": "text/x-python",
   "name": "python",
   "nbconvert_exporter": "python",
   "pygments_lexer": "ipython3",
   "version": "3.10.12"
  }
 },
 "nbformat": 4,
 "nbformat_minor": 2
}
