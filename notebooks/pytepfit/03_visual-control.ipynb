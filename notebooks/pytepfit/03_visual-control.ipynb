{
 "cells": [
  {
   "cell_type": "code",
   "execution_count": 3,
   "metadata": {},
   "outputs": [
    {
     "name": "stdout",
     "output_type": "stream",
     "text": [
      "2024-03-08\n"
     ]
    }
   ],
   "source": [
    "import numpy as np\n",
    "import pandas as pd\n",
    "import mne\n",
    "\n",
    "import matplotlib.pylab as plt\n",
    "from nilearn import plotting\n",
    "\n",
    "from src import data\n",
    "\n",
    "!date -I"
   ]
  },
  {
   "cell_type": "code",
   "execution_count": 4,
   "metadata": {},
   "outputs": [],
   "source": [
    "path_pytepfit = 'external/pytepfit'\n",
    "subjects_dir=data.path(f'{path_pytepfit}/')\n",
    "real_stc = mne.read_source_estimate(data.path(f'{path_pytepfit}/all_avg_high-stc'))"
   ]
  },
  {
   "cell_type": "code",
   "execution_count": null,
   "metadata": {},
   "outputs": [],
   "source": [
    "surfer_kwargs = dict(\n",
    "    subject='fsaverage',\n",
    "    subjects_dir=subjects_dir,\n",
    "    initial_time=0.1,\n",
    "    smoothing_steps=6,\n",
    "    show_traces='label',\n",
    "    views='axial',\n",
    "    hemi='both'\n",
    ")\n",
    "\n",
    "brain = real_stc.plot(**surfer_kwargs)"
   ]
  }
 ],
 "metadata": {
  "kernelspec": {
   "display_name": "__venv__",
   "language": "python",
   "name": "python3"
  },
  "language_info": {
   "codemirror_mode": {
    "name": "ipython",
    "version": 3
   },
   "file_extension": ".py",
   "mimetype": "text/x-python",
   "name": "python",
   "nbconvert_exporter": "python",
   "pygments_lexer": "ipython3",
   "version": "3.10.12"
  }
 },
 "nbformat": 4,
 "nbformat_minor": 2
}
