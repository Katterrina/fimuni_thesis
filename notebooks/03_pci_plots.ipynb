{
 "cells": [
  {
   "cell_type": "code",
   "execution_count": null,
   "id": "e1628cff-9f5c-4c23-948e-5e3b8541b104",
   "metadata": {},
   "outputs": [],
   "source": [
    "import numpy as np\n",
    "import mne # docu: https://mne.tools/stable/overview/index.html\n",
    "import pandas as pd\n",
    "import matplotlib.pyplot as plt\n",
    "\n",
    "from PCIst import pci_st # https://github.com/renzocom/PCIst\n",
    "\n",
    "from matplotlib import rcParams\n",
    "rcParams['figure.figsize'] = 15,6\n",
    "\n",
    "import sys\n",
    "sys.path.append('../')\n",
    "from src import data\n",
    "\n",
    "%matplotlib widget"
   ]
  },
  {
   "cell_type": "code",
   "execution_count": null,
   "id": "3d476aa9",
   "metadata": {},
   "outputs": [],
   "source": [
    "folder = 'external/nieus_tms_eeg_ebrains/derivatives/epochs/'\n",
    "subject = 'sub-01'\n",
    "\n",
    "eeg_epoched_data = np.load(data.path(folder+f'{subject}/eeg/{subject}_task-tmseeg_run-01_epochs.npy'))\n",
    "metadata = pd.read_csv(data.path(folder+f'{subject}/eeg/{subject}_task-tmseeg_run-01_channels.tsv'), sep = '\\t')\n",
    "montage = mne.channels.read_custom_montage(data.path(folder+f'{subject}/eeg/{subject}_task-tmseeg_electrodes.tsv'))\n",
    "metadata.head()"
   ]
  },
  {
   "cell_type": "code",
   "execution_count": null,
   "id": "afe521da-7641-4a02-a2b9-6a27eba7612a",
   "metadata": {},
   "outputs": [],
   "source": [
    "epochs_info = mne.create_info(list(metadata.name), metadata.iloc[0].sampling_frequency)\n",
    "epochs = mne.EpochsArray(eeg_epoched_data,epochs_info)\n",
    "epochs.set_channel_types({m:'eeg' for m in metadata.name})\n",
    "epochs.set_montage(montage)\n",
    "epochs.average(\"all\").plot();"
   ]
  },
  {
   "cell_type": "code",
   "execution_count": null,
   "id": "2fe77144",
   "metadata": {},
   "outputs": [],
   "source": [
    "epochs_data = epochs.get_data() # (n_epochs, n_channels, n_times), dalo by se rovnou z načteného vstupu, ale to bych neměla hezký obrázek výše\n",
    "epochs_data_averaged = np.mean(epochs_data,axis=0)"
   ]
  },
  {
   "cell_type": "code",
   "execution_count": null,
   "id": "ba5611cc",
   "metadata": {},
   "outputs": [],
   "source": [
    "par = {'baseline_window':(0,0.35), 'response_window':(0.4,0.8), 'k':1.2, 'min_snr':1.1, 'max_var':98, 'embed':False,'n_steps':100} # \n",
    "pci_st_result = pci_st.calc_PCIst(epochs_data_averaged, epochs.times, full_return=True, **par)\n",
    "\n",
    "\"\"\"\n",
    " 'PCI': final PCI value,\n",
    " 'dNST': list containing component wise PCIst value (∆NSTn),\n",
    " 'n_dims': number of components,\n",
    " 'D_base': base distance matrix,\n",
    " 'D_resp': response distance matrix,\n",
    " 'T_base': base transition matrix,\n",
    " 'T_resp': response transition matrix,\n",
    " 'thresholds': 2D array (n_steps, n_dims) - n_steps thresholds for each dimension,\n",
    " 'NST_diff': 2D array (n_steps, n_dims) - n_steps values based on n_steps thresholds for each dimension,\n",
    " 'NST_resp': 2D array (n_steps, n_dims) - n_steps values based on n_steps thresholds for each dimension,\n",
    " 'NST_base': 2D array (n_steps, n_dims) - n_steps values based on n_steps thresholds for each dimension,\n",
    " 'max_thresholds': threshold with maximum NST_diff for each dimension,\n",
    " 'signal_evk': ,\n",
    " 'times': ,\n",
    " 'signal_svd': ,\n",
    " 'eigenvalues': ,\n",
    " 'var_exp': ,\n",
    " 'snrs': signal to noise ratio for each component\n",
    "\"\"\"\n",
    "\n",
    "pci_st_result"
   ]
  },
  {
   "cell_type": "code",
   "execution_count": null,
   "id": "37ecc661",
   "metadata": {},
   "outputs": [],
   "source": [
    "for d in range(pci_st_result[\"n_dims\"]):\n",
    "\n",
    "    plt.figure()\n",
    "    plt.title(f\"Componet {d}\")\n",
    "    plt.plot(pci_st_result[\"times\"],pci_st_result[\"signal_svd\"][d])\n",
    "    plt.axvline(x=0.4,color=\"k\")\n",
    "    plt.show()\n",
    "\n",
    "    fig, (ax0,ax1) = plt.subplots(1, 2, sharey=True)\n",
    "    \n",
    "\n",
    "    min_base = np.min(pci_st_result['D_base'][d])\n",
    "    max_base = np.max(pci_st_result['D_base'][d])\n",
    "    min_resp = np.min(pci_st_result['D_resp'][d])\n",
    "    max_resp = np.max(pci_st_result['D_resp'][d])\n",
    "    minimum = min(min_base,min_resp)\n",
    "    maximum = max(max_base,max_resp)\n",
    "\n",
    "    ax0.imshow(pci_st_result['D_base'][d],vmin=minimum, vmax=maximum, norm=\"symlog\", cmap='nipy_spectral')\n",
    "    ax1.imshow(pci_st_result['D_resp'][d],vmin=minimum, vmax=maximum, norm=\"symlog\", cmap='nipy_spectral')\n",
    "\n",
    "    ax0.set_title('base')\n",
    "    ax1.set_title('response')\n",
    "\n",
    "    plt.show()\n",
    "\n",
    "    plt.figure()\n",
    "    plt.axvline(x = pci_st_result[\"max_thresholds\"][d], color=\"y\", label = 'e^*')\n",
    "    plt.plot(pci_st_result['thresholds'][:,d], pci_st_result['NST_base'][:,d], 'black', label='NST_base')\n",
    "    plt.plot(pci_st_result['thresholds'][:,d], pci_st_result['NST_resp'][:,d], 'b', label='NST_resp')\n",
    "    plt.plot(pci_st_result['thresholds'][:,d], pci_st_result['NST_diff'][:,d], 'r', label='NST_diff')\n",
    "\n",
    "    plt.show()\n",
    "\n",
    "    fig, (ax0,ax1) = plt.subplots(1, 2, sharey=True)\n",
    "\n",
    "    im0 = ax0.imshow(pci_st_result['T_base'][d])\n",
    "    im1 = ax1.imshow(pci_st_result['T_resp'][d])\n",
    "\n",
    "    ax0.set_title('base thresholded')\n",
    "    ax1.set_title('response thresholded')\n",
    "\n",
    "    plt.show()"
   ]
  },
  {
   "cell_type": "code",
   "execution_count": null,
   "id": "2ab2ca61",
   "metadata": {},
   "outputs": [],
   "source": [
    "pci_st_result[\"PCI\"]"
   ]
  },
  {
   "cell_type": "code",
   "execution_count": null,
   "id": "23361076",
   "metadata": {},
   "outputs": [],
   "source": []
  }
 ],
 "metadata": {
  "kernelspec": {
   "display_name": "Python 3 (ipykernel)",
   "language": "python",
   "name": "python3"
  },
  "language_info": {
   "codemirror_mode": {
    "name": "ipython",
    "version": 3
   },
   "file_extension": ".py",
   "mimetype": "text/x-python",
   "name": "python",
   "nbconvert_exporter": "python",
   "pygments_lexer": "ipython3",
   "version": "3.10.12"
  }
 },
 "nbformat": 4,
 "nbformat_minor": 5
}
