{
 "cells": [
  {
   "cell_type": "code",
   "execution_count": 41,
   "metadata": {},
   "outputs": [
    {
     "name": "stdout",
     "output_type": "stream",
     "text": [
      "2024-01-29\n"
     ]
    }
   ],
   "source": [
    "import numpy as np\n",
    "from scipy.sparse import csgraph\n",
    "\n",
    "import sys\n",
    "sys.path.append('../')\n",
    "from src import data\n",
    "from scipy.stats import spearmanr\n",
    "\n",
    "# https://github.com/aestrivex/bctpy\n",
    "# dokumentace asi jenom pro matlab? https://sites.google.com/site/bctnet/\n",
    "# from bct.algorithms import efficiency\n",
    "\n",
    "from netneurotools import metrics # zjistit, proč tohle nefunguje přes pip \n",
    "# (mám to stažené lokálně z Githubu a to pak funguje)\n",
    "\n",
    "# https://enigma-toolbox.readthedocs.io/en/latest/pages/05.HCP/index.html\n",
    "# enigmatoolbox obsahuje chybu, lokálně jsem si ji opravila, TODO na GitHub\n",
    "from enigmatoolbox.datasets import load_sc, load_fc\n",
    "from nilearn import plotting\n",
    "\n",
    "PLOT=False\n",
    "\n",
    "!date -I"
   ]
  },
  {
   "cell_type": "code",
   "execution_count": 42,
   "metadata": {},
   "outputs": [],
   "source": [
    "# load data F-TRACT\n",
    "response_probability = np.loadtxt('../data/external/F-TRACT/DKT/probability.txt.gz')\n",
    "response_amplitude = np.loadtxt('../data/external/F-TRACT/DKT/amplitude__median.txt.gz')\n",
    "\n",
    "\n",
    "parcells_list = ['ctx-lh-bankssts','ctx-lh-caudalanteriorcingulate','ctx-lh-caudalmiddlefrontal','ctx-lh-cuneus','ctx-lh-entorhinal','ctx-lh-fusiform','ctx-lh-inferiorparietal','ctx-lh-inferiortemporal','ctx-lh-isthmuscingulate','ctx-lh-lateraloccipital','ctx-lh-lateralorbitofrontal','ctx-lh-lingual','ctx-lh-medialorbitofrontal','ctx-lh-middletemporal','ctx-lh-parahippocampal','ctx-lh-paracentral','ctx-lh-parsopercularis','ctx-lh-parsorbitalis','ctx-lh-parstriangularis','ctx-lh-pericalcarine','ctx-lh-postcentral','ctx-lh-posteriorcingulate','ctx-lh-precentral','ctx-lh-precuneus','ctx-lh-rostralanteriorcingulate','ctx-lh-rostralmiddlefrontal','ctx-lh-superiorfrontal','ctx-lh-superiorparietal','ctx-lh-superiortemporal','ctx-lh-supramarginal','ctx-lh-frontalpole','ctx-lh-temporalpole','ctx-lh-transversetemporal','ctx-lh-insula','ctx-rh-bankssts','ctx-rh-caudalanteriorcingulate','ctx-rh-caudalmiddlefrontal','ctx-rh-cuneus','ctx-rh-entorhinal','ctx-rh-fusiform','ctx-rh-inferiorparietal','ctx-rh-inferiortemporal','ctx-rh-isthmuscingulate','ctx-rh-lateraloccipital','ctx-rh-lateralorbitofrontal','ctx-rh-lingual','ctx-rh-medialorbitofrontal','ctx-rh-middletemporal','ctx-rh-parahippocampal','ctx-rh-paracentral','ctx-rh-parsopercularis','ctx-rh-parsorbitalis','ctx-rh-parstriangularis','ctx-rh-pericalcarine','ctx-rh-postcentral','ctx-rh-posteriorcingulate','ctx-rh-precentral','ctx-rh-precuneus','ctx-rh-rostralanteriorcingulate','ctx-rh-rostralmiddlefrontal','ctx-rh-superiorfrontal','ctx-rh-superiorparietal','ctx-rh-superiortemporal','ctx-rh-supramarginal','ctx-rh-frontalpole','ctx-rh-temporalpole','ctx-rh-transversetemporal','ctx-rh-insula']\n",
    "\n",
    "with open('../data/external/F-TRACT/DKT/DKT.txt', 'r') as f:\n",
    "    parcell_ids =  [i for i,line in enumerate(f) if line[:-1] in parcells_list]\n",
    "\n",
    "# select ROI\n",
    "response_probability = response_probability[np.ix_(parcell_ids, parcell_ids)]\n",
    "response_amplitude  = response_amplitude[np.ix_(parcell_ids, parcell_ids)]"
   ]
  },
  {
   "cell_type": "code",
   "execution_count": 43,
   "metadata": {},
   "outputs": [
    {
     "name": "stderr",
     "output_type": "stream",
     "text": [
      "/tmp/ipykernel_57328/3479329224.py:12: RuntimeWarning: divide by zero encountered in divide\n",
      "  L = np.where(SC==0.0,0,1/SC)\n"
     ]
    }
   ],
   "source": [
    "# load cortico-cortical structural connectivity data\n",
    "SC, sc_ctx_labels, _, _ = load_sc()\n",
    "# load cortico-cortical functional connectivity data\n",
    "FC, fc_ctx_labels, _, _ = load_fc()\n",
    "\n",
    "# plot cortico-cortical connectivity matrices\n",
    "if PLOT:\n",
    "    sc_plot = plotting.plot_matrix(SC, figure=(9, 9), labels=sc_ctx_labels, vmax=10, vmin=0, cmap='Blues')  \n",
    "    fc_plot = plotting.plot_matrix(FC, figure=(9, 9), labels=fc_ctx_labels, vmax=10, vmin=0, cmap='Reds')  \n",
    "\n",
    "# transform SC to distance matrix\n",
    "L = np.where(SC==0.0,0,1/SC)\n",
    "\n",
    "# shortcut for correlation of X with response probability matrix\n",
    "def coor_with_response(X):\n",
    "    r_probability = spearmanr(X.flatten(),response_probability.flatten(),nan_policy='omit')\n",
    "    r_amplitude_median = spearmanr(X.flatten(),response_amplitude.flatten(),nan_policy='omit')\n",
    "\n",
    "    print(f\"Correlation with response probabilty: {r_probability.statistic:.3f} (p={r_probability.pvalue:.3f})\")\n",
    "    print(f\"Correlation with response amplitude: {r_amplitude_median.statistic:.3f} (p={r_amplitude_median.pvalue:.3f})\")"
   ]
  },
  {
   "cell_type": "code",
   "execution_count": 44,
   "metadata": {},
   "outputs": [
    {
     "name": "stdout",
     "output_type": "stream",
     "text": [
      "Correlation with response probabilty:         0.353 (p=0.000)\n",
      "Correlation with response amplitude (mad):    -0.190 (p=0.005)\n",
      "Correlation with response amplitude (median): -0.203 (p=0.002)\n"
     ]
    }
   ],
   "source": [
    "coor_with_response(SC) \n",
    "# paper p= ~0.4"
   ]
  },
  {
   "cell_type": "code",
   "execution_count": 45,
   "metadata": {},
   "outputs": [
    {
     "name": "stdout",
     "output_type": "stream",
     "text": [
      "Correlation with response probabilty:         0.067 (p=0.018)\n",
      "Correlation with response amplitude (mad):    -0.154 (p=0.022)\n",
      "Correlation with response amplitude (median): -0.165 (p=0.014)\n"
     ]
    }
   ],
   "source": [
    "coor_with_response(FC)"
   ]
  },
  {
   "cell_type": "code",
   "execution_count": 46,
   "metadata": {},
   "outputs": [
    {
     "name": "stderr",
     "output_type": "stream",
     "text": [
      "/tmp/ipykernel_57328/1122485199.py:3: RuntimeWarning: divide by zero encountered in divide\n",
      "  shorest_path_eff = np.divide(1,shorest_paths)\n"
     ]
    },
    {
     "name": "stdout",
     "output_type": "stream",
     "text": [
      "Correlation with response probabilty:         0.434 (p=0.000)\n",
      "Correlation with response amplitude (mad):    -0.098 (p=0.191)\n",
      "Correlation with response amplitude (median): -0.124 (p=0.096)\n"
     ]
    }
   ],
   "source": [
    "# shortest path efficiency\n",
    "shorest_paths,_ = metrics.distance_wei_floyd(L)\n",
    "shorest_path_eff = np.divide(1,shorest_paths)\n",
    "\n",
    "coor_with_response(shorest_path_eff)"
   ]
  },
  {
   "cell_type": "code",
   "execution_count": 47,
   "metadata": {},
   "outputs": [
    {
     "name": "stdout",
     "output_type": "stream",
     "text": [
      "Correlation with response probabilty:         0.333 (p=0.000)\n",
      "Correlation with response amplitude (mad):    -0.093 (p=0.168)\n",
      "Correlation with response amplitude (median): -0.093 (p=0.170)\n"
     ]
    }
   ],
   "source": [
    "com = metrics.communicability_wei(SC)\n",
    "\n",
    "coor_with_response(com)"
   ]
  },
  {
   "cell_type": "code",
   "execution_count": 48,
   "metadata": {},
   "outputs": [
    {
     "name": "stdout",
     "output_type": "stream",
     "text": [
      "Correlation with response probabilty:         -0.423 (p=0.000)\n",
      "Correlation with response amplitude (mad):    -0.016 (p=0.828)\n",
      "Correlation with response amplitude (median): 0.002 (p=0.982)\n"
     ]
    }
   ],
   "source": [
    "SI = metrics.search_information(SC,L)\n",
    "\n",
    "coor_with_response(SI)"
   ]
  },
  {
   "cell_type": "code",
   "execution_count": 52,
   "metadata": {},
   "outputs": [
    {
     "name": "stdout",
     "output_type": "stream",
     "text": [
      "Correlation with response probabilty:         -0.032 (p=0.262)\n",
      "Correlation with response amplitude (mad):    -0.265 (p=0.000)\n",
      "Correlation with response amplitude (median): -0.250 (p=0.000)\n"
     ]
    },
    {
     "name": "stderr",
     "output_type": "stream",
     "text": [
      "/home/katterrina/fi_muni/0_diplomka/__venv__/lib/python3.10/site-packages/netneurotools/metrics.py:780: RuntimeWarning: divide by zero encountered in divide\n",
      "  E_diff = np.divide(1, mfpt)\n"
     ]
    }
   ],
   "source": [
    "# https://netneurolab.github.io/netneurotools/_modules/netneurotools/metrics.html#diffusion_efficiency\n",
    "diffusion = metrics.diffusion_efficiency(SC)[1] # tahle funkce určitě má dostat SC, a ne délky L\n",
    "\n",
    "coor_with_response(diffusion)"
   ]
  },
  {
   "cell_type": "code",
   "execution_count": 50,
   "metadata": {},
   "outputs": [
    {
     "name": "stdout",
     "output_type": "stream",
     "text": [
      "Correlation with response probabilty:         0.114 (p=0.000)\n",
      "Correlation with response amplitude (mad):    -0.135 (p=0.070)\n",
      "Correlation with response amplitude (median): -0.133 (p=0.074)\n"
     ]
    },
    {
     "name": "stderr",
     "output_type": "stream",
     "text": [
      "/tmp/ipykernel_57328/147778707.py:3: RuntimeWarning: divide by zero encountered in divide\n",
      "  nav_eff = np.divide(1,nav_paths)\n"
     ]
    }
   ],
   "source": [
    "# tady té funkci možná dávám špatný vstup?\n",
    "_,_,nav_paths,_,_ = metrics.navigation_wu(L, SC)\n",
    "nav_eff = np.divide(1,nav_paths)\n",
    "\n",
    "coor_with_response(nav_eff)"
   ]
  },
  {
   "cell_type": "code",
   "execution_count": null,
   "metadata": {},
   "outputs": [],
   "source": []
  }
 ],
 "metadata": {
  "kernelspec": {
   "display_name": "__venv__",
   "language": "python",
   "name": "python3"
  },
  "language_info": {
   "codemirror_mode": {
    "name": "ipython",
    "version": 3
   },
   "file_extension": ".py",
   "mimetype": "text/x-python",
   "name": "python",
   "nbconvert_exporter": "python",
   "pygments_lexer": "ipython3",
   "version": "3.10.12"
  },
  "orig_nbformat": 4
 },
 "nbformat": 4,
 "nbformat_minor": 2
}
