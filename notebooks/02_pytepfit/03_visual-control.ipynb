{
 "cells": [
  {
   "cell_type": "code",
   "execution_count": 2,
   "metadata": {},
   "outputs": [
    {
     "name": "stdout",
     "output_type": "stream",
     "text": [
      "2024-05-18\n"
     ]
    }
   ],
   "source": [
    "%load_ext autoreload\n",
    "%autoreload 2\n",
    "%matplotlib inline\n",
    "\n",
    "import mne\n",
    "from src import paths\n",
    "\n",
    "!date -I"
   ]
  },
  {
   "cell_type": "markdown",
   "metadata": {},
   "source": [
    "# Visual control\n",
    "\n",
    "Because of the necessity to create mapping between CSV and MNE versions of Schaefer parcellation and issues along the way, and also to get better insight into the data, this notebook shows a visualization of the brain activity in time with stimulation site marked."
   ]
  },
  {
   "cell_type": "code",
   "execution_count": 3,
   "metadata": {},
   "outputs": [],
   "source": [
    "path_pytepfit = 'external/pytepfit'\n",
    "subjects_dir=paths.path(f'{path_pytepfit}/')\n",
    "real_stc = mne.read_source_estimate(paths.path(f'{path_pytepfit}/all_avg_high-stc'))"
   ]
  },
  {
   "cell_type": "code",
   "execution_count": 4,
   "metadata": {},
   "outputs": [
    {
     "name": "stdout",
     "output_type": "stream",
     "text": [
      "86 <Label | fsaverage, '7Networks_LH_SomMot_9-lh', lh : 1284 vertices>\n"
     ]
    }
   ],
   "source": [
    "# read labels for Schaefer parcellation from annotations\n",
    "labels_Schaefer = mne.read_labels_from_annot('fsaverage',\n",
    "                                             parc='Schaefer2018_200Parcels_7Networks_order', \n",
    "                                             subjects_dir=subjects_dir, \n",
    "                                             verbose=False)\n",
    "\n",
    "stimulated_label = None\n",
    "\n",
    "for i, l in enumerate(labels_Schaefer):\n",
    "    if l.name == \"7Networks_LH_SomMot_9-lh\": # parcel name from notebook '02_stimulation-site-extraction.ipynb'\n",
    "        stimulated_label = l\n",
    "        print(i,l)\n",
    "        break"
   ]
  },
  {
   "cell_type": "markdown",
   "metadata": {},
   "source": [
    "Run visualization in the next cell. When it is running, you can run the timelapse in upper left corner."
   ]
  },
  {
   "cell_type": "code",
   "execution_count": 5,
   "metadata": {},
   "outputs": [
    {
     "name": "stdout",
     "output_type": "stream",
     "text": [
      "Using pyvistaqt 3d backend.\n",
      "\n",
      "Using control points [ 7.7130282  10.35937345 35.11386113]\n"
     ]
    }
   ],
   "source": [
    "surfer_kwargs = dict(\n",
    "    subject='fsaverage',\n",
    "    subjects_dir=subjects_dir,\n",
    "    initial_time=0.0,\n",
    "    smoothing_steps=6,\n",
    "    show_traces=False,\n",
    "    views='axial',\n",
    "    hemi='both',\n",
    "    surface=\"white\"\n",
    ")\n",
    "\n",
    "brain = real_stc.plot(**surfer_kwargs)\n",
    "brain.add_annotation('Schaefer2018_200Parcels_7Networks_order',color='lightgray')\n",
    "brain.add_label(stimulated_label,borders=2)\n",
    "# brain.add_foci(np.array([-46.63, -28.98, 53.26]),hemi='lh',color=\"r\")"
   ]
  },
  {
   "cell_type": "markdown",
   "metadata": {},
   "source": [
    "Comparing with plots in [02_stimulation-site-extraction.ipynb](./02_stimulation-site-extraction.ipynb), it seems the stimulation site extraction was succesful."
   ]
  },
  {
   "cell_type": "code",
   "execution_count": null,
   "metadata": {},
   "outputs": [],
   "source": []
  }
 ],
 "metadata": {
  "kernelspec": {
   "display_name": "__venv__",
   "language": "python",
   "name": "python3"
  },
  "language_info": {
   "codemirror_mode": {
    "name": "ipython",
    "version": 3
   },
   "file_extension": ".py",
   "mimetype": "text/x-python",
   "name": "python",
   "nbconvert_exporter": "python",
   "pygments_lexer": "ipython3",
   "version": "3.10.12"
  }
 },
 "nbformat": 4,
 "nbformat_minor": 2
}
